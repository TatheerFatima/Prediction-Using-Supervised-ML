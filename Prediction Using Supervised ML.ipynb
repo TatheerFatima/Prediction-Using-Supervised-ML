{
 "cells": [
  {
   "cell_type": "markdown",
   "metadata": {},
   "source": [
    "# Prediction using Supervised ML"
    "# Predicting the percentage of a student based on the number of study hours using Linear Regression"
   ]
  },
  {
   "cell_type": "markdown",
   "metadata": {},
   "source": [
    "#### Import Libraries"
   ]
  },
  {
   "cell_type": "code",
   "execution_count": 1,
   "metadata": {},
   "outputs": [],
   "source": [
    "import pandas as pd\n",
    "import numpy as np  \n",
    "import matplotlib.pyplot as plt  \n",
    "%matplotlib inline"
   ]
  },
  {
   "cell_type": "markdown",
   "metadata": {},
   "source": [
    "#### Load Dataset"
   ]
  },
  {
   "cell_type": "code",
   "execution_count": 2,
   "metadata": {},
   "outputs": [
    {
     "data": {
      "text/html": [
       "<div>\n",
       "<style scoped>\n",
       "    .dataframe tbody tr th:only-of-type {\n",
       "        vertical-align: middle;\n",
       "    }\n",
       "\n",
       "    .dataframe tbody tr th {\n",
       "        vertical-align: top;\n",
       "    }\n",
       "\n",
       "    .dataframe thead th {\n",
       "        text-align: right;\n",
       "    }\n",
       "</style>\n",
       "<table border=\"1\" class=\"dataframe\">\n",
       "  <thead>\n",
       "    <tr style=\"text-align: right;\">\n",
       "      <th></th>\n",
       "      <th>Hours</th>\n",
       "      <th>Scores</th>\n",
       "    </tr>\n",
       "  </thead>\n",
       "  <tbody>\n",
       "    <tr>\n",
       "      <td>0</td>\n",
       "      <td>2.5</td>\n",
       "      <td>21</td>\n",
       "    </tr>\n",
       "    <tr>\n",
       "      <td>1</td>\n",
       "      <td>5.1</td>\n",
       "      <td>47</td>\n",
       "    </tr>\n",
       "    <tr>\n",
       "      <td>2</td>\n",
       "      <td>3.2</td>\n",
       "      <td>27</td>\n",
       "    </tr>\n",
       "    <tr>\n",
       "      <td>3</td>\n",
       "      <td>8.5</td>\n",
       "      <td>75</td>\n",
       "    </tr>\n",
       "    <tr>\n",
       "      <td>4</td>\n",
       "      <td>3.5</td>\n",
       "      <td>30</td>\n",
       "    </tr>\n",
       "  </tbody>\n",
       "</table>\n",
       "</div>"
      ],
      "text/plain": [
       "   Hours  Scores\n",
       "0    2.5      21\n",
       "1    5.1      47\n",
       "2    3.2      27\n",
       "3    8.5      75\n",
       "4    3.5      30"
      ]
     },
     "execution_count": 2,
     "metadata": {},
     "output_type": "execute_result"
    }
   ],
   "source": [
    "df = pd.read_csv('http://bit.ly/w-data')\n",
    "df.head()"
   ]
  },
  {
   "cell_type": "markdown",
   "metadata": {},
   "source": [
    "#### Scatter Plot the dataset"
   ]
  },
  {
   "cell_type": "code",
   "execution_count": 3,
   "metadata": {},
   "outputs": [
    {
     "data": {
      "image/png": "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\n",
      "text/plain": [
       "<Figure size 432x288 with 1 Axes>"
      ]
     },
     "metadata": {
      "needs_background": "light"
     },
     "output_type": "display_data"
    }
   ],
   "source": [
    "plt.scatter(x = df['Hours'],y = df['Scores'])\n",
    "plt.xlabel('Hours')  \n",
    "plt.ylabel('Scores')  \n",
    "plt.show()"
   ]
  },
  {
   "cell_type": "markdown",
   "metadata": {},
   "source": [
    "#### Dividing data"
   ]
  },
  {
   "cell_type": "code",
   "execution_count": 4,
   "metadata": {},
   "outputs": [],
   "source": [
    "X = df.iloc[:, :-1].values  \n",
    "y = df.iloc[:, 1].values  "
   ]
  },
  {
   "cell_type": "markdown",
   "metadata": {},
   "source": [
    "#### Split the data "
   ]
  },
  {
   "cell_type": "code",
   "execution_count": 5,
   "metadata": {},
   "outputs": [],
   "source": [
    "from sklearn.model_selection import train_test_split  \n",
    "\n",
    "X_train, X_test, y_train, y_test = train_test_split(X, y, test_size=0.2, random_state=0) "
   ]
  },
  {
   "cell_type": "markdown",
   "metadata": {},
   "source": [
    "#### Training the algorithm"
   ]
  },
  {
   "cell_type": "code",
   "execution_count": 6,
   "metadata": {},
   "outputs": [],
   "source": [
    "from sklearn.linear_model import LinearRegression  \n",
    "LR = LinearRegression().fit(X_train, y_train) "
   ]
  },
  {
   "cell_type": "markdown",
   "metadata": {},
   "source": [
    "#### Plotting the regression line"
   ]
  },
  {
   "cell_type": "code",
   "execution_count": 7,
   "metadata": {},
   "outputs": [
    {
     "data": {
      "image/png": "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\n",
      "text/plain": [
       "<Figure size 432x288 with 1 Axes>"
      ]
     },
     "metadata": {
      "needs_background": "light"
     },
     "output_type": "display_data"
    }
   ],
   "source": [
    "line = LR.coef_*X + LR.intercept_\n",
    "plt.scatter(X, y)   # Plotting for the test data\n",
    "plt.plot(X, line);\n",
    "plt.show()"
   ]
  },
  {
   "cell_type": "markdown",
   "metadata": {},
   "source": [
    "### Predictions "
   ]
  },
  {
   "cell_type": "code",
   "execution_count": 8,
   "metadata": {},
   "outputs": [
    {
     "data": {
      "text/plain": [
       "array([16.88414476, 33.73226078, 75.357018  , 26.79480124, 60.49103328])"
      ]
     },
     "execution_count": 8,
     "metadata": {},
     "output_type": "execute_result"
    }
   ],
   "source": [
    "y_prediction = LR.predict(X_test)\n",
    "y_prediction"
   ]
  },
  {
   "cell_type": "code",
   "execution_count": 9,
   "metadata": {},
   "outputs": [
    {
     "data": {
      "text/html": [
       "<div>\n",
       "<style scoped>\n",
       "    .dataframe tbody tr th:only-of-type {\n",
       "        vertical-align: middle;\n",
       "    }\n",
       "\n",
       "    .dataframe tbody tr th {\n",
       "        vertical-align: top;\n",
       "    }\n",
       "\n",
       "    .dataframe thead th {\n",
       "        text-align: right;\n",
       "    }\n",
       "</style>\n",
       "<table border=\"1\" class=\"dataframe\">\n",
       "  <thead>\n",
       "    <tr style=\"text-align: right;\">\n",
       "      <th></th>\n",
       "      <th>Actual scores</th>\n",
       "      <th>Predicted scores</th>\n",
       "    </tr>\n",
       "  </thead>\n",
       "  <tbody>\n",
       "    <tr>\n",
       "      <td>0</td>\n",
       "      <td>20</td>\n",
       "      <td>16.884145</td>\n",
       "    </tr>\n",
       "    <tr>\n",
       "      <td>1</td>\n",
       "      <td>27</td>\n",
       "      <td>33.732261</td>\n",
       "    </tr>\n",
       "    <tr>\n",
       "      <td>2</td>\n",
       "      <td>69</td>\n",
       "      <td>75.357018</td>\n",
       "    </tr>\n",
       "    <tr>\n",
       "      <td>3</td>\n",
       "      <td>30</td>\n",
       "      <td>26.794801</td>\n",
       "    </tr>\n",
       "    <tr>\n",
       "      <td>4</td>\n",
       "      <td>62</td>\n",
       "      <td>60.491033</td>\n",
       "    </tr>\n",
       "  </tbody>\n",
       "</table>\n",
       "</div>"
      ],
      "text/plain": [
       "   Actual scores  Predicted scores\n",
       "0             20         16.884145\n",
       "1             27         33.732261\n",
       "2             69         75.357018\n",
       "3             30         26.794801\n",
       "4             62         60.491033"
      ]
     },
     "execution_count": 9,
     "metadata": {},
     "output_type": "execute_result"
    }
   ],
   "source": [
    "new_df = pd.DataFrame({'Actual scores': y_test, 'Predicted scores': y_prediction})  \n",
    "new_df "
   ]
  },
  {
   "cell_type": "markdown",
   "metadata": {},
   "source": [
    "### Plotting predctions using bar graph"
   ]
  },
  {
   "cell_type": "code",
   "execution_count": 10,
   "metadata": {},
   "outputs": [
    {
     "data": {
      "image/png": "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\n",
      "text/plain": [
       "<Figure size 360x360 with 1 Axes>"
      ]
     },
     "metadata": {
      "needs_background": "light"
     },
     "output_type": "display_data"
    }
   ],
   "source": [
    "fig = plt.figure(figsize = (5, 5))\n",
    "plt.bar(y_test,y_test, color ='r', width = 3) \n",
    "plt.bar(y_prediction,y_prediction, color ='b', width = 3)\n",
    "plt.xlabel('Actual Scores')  \n",
    "plt.ylabel('Predicted Scores')  \n",
    "plt.show()"
   ]
  },
  {
   "cell_type": "markdown",
   "metadata": {},
   "source": [
    "### Evaluating the Model"
   ]
  },
  {
   "cell_type": "code",
   "execution_count": 11,
   "metadata": {},
   "outputs": [
    {
     "name": "stdout",
     "output_type": "stream",
     "text": [
      "Mean Absolute Error: 4.183859899002975\n"
     ]
    }
   ],
   "source": [
    "from sklearn import metrics  \n",
    "print('Mean Absolute Error:', metrics.mean_absolute_error(y_test, y_prediction)) "
   ]
  },
  {
   "cell_type": "code",
   "execution_count": 12,
   "metadata": {},
   "outputs": [
    {
     "name": "stdout",
     "output_type": "stream",
     "text": [
      "Training score:  95.15510725211553\n",
      "Testing score:  94.54906892105356\n"
     ]
    }
   ],
   "source": [
    "print(\"Training score: \", (LR.score(X_train,y_train)*100)) \n",
    "print(\"Testing score: \", (LR.score(X_test,y_test)*100))"
   ]
  },
  {
   "cell_type": "markdown",
   "metadata": {},
   "source": [
    "### What will be predicted score if a student studies for 9.25 hrs/ day? "
   ]
  },
  {
   "cell_type": "code",
   "execution_count": 13,
   "metadata": {},
   "outputs": [
    {
     "name": "stdout",
     "output_type": "stream",
     "text": [
      "Predicted score for 9.25 hrs :  93.69173248737538\n"
     ]
    }
   ],
   "source": [
    "hours = [[9.25]]\n",
    "newPredict = LR.predict(hours)\n",
    "print(\"Predicted score for 9.25 hrs : \", newPredict[0])"
   ]
  }
 ],
 "metadata": {
  "kernelspec": {
   "display_name": "Python 3",
   "language": "python",
   "name": "python3"
  },
  "language_info": {
   "codemirror_mode": {
    "name": "ipython",
    "version": 3
   },
   "file_extension": ".py",
   "mimetype": "text/x-python",
   "name": "python",
   "nbconvert_exporter": "python",
   "pygments_lexer": "ipython3",
   "version": "3.7.4"
  }
 },
 "nbformat": 4,
 "nbformat_minor": 2
}
